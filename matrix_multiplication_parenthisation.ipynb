{
 "cells": [
  {
   "cell_type": "markdown",
   "metadata": {},
   "source": [
    "Problem: given an input of $\\langle p_0,p_1, \\ldots , p_n \\rangle$ that denotes dimentions of a series of matrices $\\langle A_1, A_2,\\ldots, A_n\\rangle$, where the dimensions of matrix $i$ are given by $A_i \\to p_{i-1} \\times p_i$, in which order should we perform the multiplications (parenthesisation) such that we need to perform the smallest numbers of scalar multiplications?"
   ]
  },
  {
   "cell_type": "code",
   "execution_count": null,
   "metadata": {},
   "outputs": [],
   "source": [
    "def bottom_up_matrix_multiplication(p): # p array with p[i] bein the dimenstions of matrix A_i -> rows p[i-1] X p[i]\n",
    "\n",
    "    n = len(p)\n",
    "    m = [ [0] * n , [0] * n]\n",
    "    s = [[0] * (n-1), [0] * ]\n",
    "\n"
   ]
  }
 ],
 "metadata": {
  "kernelspec": {
   "display_name": "Python 3",
   "language": "python",
   "name": "python3"
  },
  "language_info": {
   "codemirror_mode": {
    "name": "ipython",
    "version": 3
   },
   "file_extension": ".py",
   "mimetype": "text/x-python",
   "name": "python",
   "nbconvert_exporter": "python",
   "pygments_lexer": "ipython3",
   "version": "3.11.8"
  }
 },
 "nbformat": 4,
 "nbformat_minor": 2
}
