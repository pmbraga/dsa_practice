{
 "cells": [
  {
   "cell_type": "markdown",
   "metadata": {},
   "source": [
    "Problem: given an input of $\\langle p_0,p_1, \\ldots , p_n \\rangle$ that denotes dimentions of a series of matrices $\\langle A_1, A_2,\\ldots, A_n\\rangle$, where the dimensions of matrix $i$ are given by $A_i \\to p_{i-1} \\times p_i$, in which order should we perform the multiplications (parenthesisation) such that we need to perform the smallest numbers of scalar multiplications?"
   ]
  },
  {
   "cell_type": "code",
   "execution_count": 8,
   "metadata": {},
   "outputs": [],
   "source": [
    "import math"
   ]
  },
  {
   "cell_type": "code",
   "execution_count": 50,
   "metadata": {},
   "outputs": [],
   "source": [
    "''' the function works, but its indexed-1''' ''' BOTTOM-UP APPROACH '''\n",
    "\n",
    "def bottom_up_matrix_multiplication(p): # p array with p[i] bein the dimenstions of matrix A_i -> rows p[i-1] X p[i]\n",
    "\n",
    "    n = len(p) # number of matrices\n",
    "    m = [[0 for _ in range(n)] for _ in range(n)] # matrix to store the optimum cost of parenthesizing the matrices between i and j with i and j in range (0,n)\n",
    "    s = [[0 for _ in range(n)] for _ in range(n)] # stores which index k should be chosen to divide the sequence between i and j optimally\n",
    "\n",
    "    ''' m in a nxn matrix where the first n represents the initial matrix i and the second n the second matrix j: each element ixj stores the cost associated with\n",
    "    dividing the subsequence of matrices between i and j optimally,\n",
    "    \n",
    "    while this happens the matrix s stores in the element s[i][j] which index k between i and j should be chosen to produce the optimal parenthisation m[i][j] defined\n",
    "    in the previous matrix '''\n",
    "\n",
    "    # the base case where the sequence is of only one matrix, m[i][i], has cost zero as no multiplications are performed, initalising the sequences with zeros saves time required to write zero in the diagonal\n",
    "\n",
    "    for l in range(2, n):\n",
    "\n",
    "        for i in range(1, n-l+1): # we start at index one because these are the indexes of the matrices, not of the input dimensions. we have p[0], but we start at matrix A_1 with dimension p[1-1] X p[1] -> p[0] X p[1]\n",
    "\n",
    "            j = i + l - 1\n",
    "            m[i][j] = math.inf\n",
    "\n",
    "            for k in range(i - 1, j): # checks all possible points k of slicing\n",
    "\n",
    "                q = m[i][k] + m[k+1][j] + (p[i-1] * p[k] * p[j])\n",
    "\n",
    "                if q < m[i][j]: # if the calculation has not been performed yet this will always be true bcs q is always lower than inf\n",
    "\n",
    "                    m[i][j] = q \n",
    "                    s[i][j] = k # it changes s until it finds the optimal point, after that this condition is not satisfied anymore\n",
    "\n",
    "\n",
    "    # clean-up output matrix to get it to 0-indexed\n",
    "\n",
    "    output_m = []\n",
    "    output_s = []\n",
    "\n",
    "    for i in range(0, n):\n",
    "        output_m.append(m[i][1:])\n",
    "        output_s.append(s[i][2:])\n",
    "\n",
    "    return output_m[1:], output_s[1:len(output_s)-1]"
   ]
  },
  {
   "cell_type": "code",
   "execution_count": 51,
   "metadata": {},
   "outputs": [],
   "source": [
    "dimensions = [30, 35, 15, 5, 10, 20, 25]\n",
    "second = [5,10,3,12,5,50,6]\n",
    "size = 6"
   ]
  },
  {
   "cell_type": "code",
   "execution_count": 52,
   "metadata": {},
   "outputs": [
    {
     "data": {
      "text/plain": [
       "([[0, 15750, 7875, 9375, 11875, 15125],\n",
       "  [0, 0, 2625, 4375, 7125, 10500],\n",
       "  [0, 0, 0, 750, 2500, 5375],\n",
       "  [0, 0, 0, 0, 1000, 3500],\n",
       "  [0, 0, 0, 0, 0, 5000],\n",
       "  [0, 0, 0, 0, 0, 0]],\n",
       " [[1, 1, 3, 3, 3],\n",
       "  [0, 2, 3, 3, 3],\n",
       "  [0, 0, 3, 3, 3],\n",
       "  [0, 0, 0, 4, 5],\n",
       "  [0, 0, 0, 0, 5]])"
      ]
     },
     "execution_count": 52,
     "metadata": {},
     "output_type": "execute_result"
    }
   ],
   "source": [
    "bottom_up_matrix_multiplication(dimensions)"
   ]
  },
  {
   "cell_type": "code",
   "execution_count": 42,
   "metadata": {},
   "outputs": [],
   "source": [
    "def memoised_matrix_chain(p): # we need i and j in order to implement the recursion in the algo\n",
    "\n",
    "    n = len(p)\n",
    "    m = [[0 for _ in range(n)] for _ in range(n)]\n",
    "\n",
    "    for i in range(0, n):\n",
    "        for j in range(i+1, n):\n",
    "            m[i][j] = math.inf\n",
    "\n",
    "    return look_up_chain(m, p, 0, n - 1)\n",
    "\n",
    "def look_up_chain(m, p, i, j):\n",
    "\n",
    "    if m[i][j] < math.inf:\n",
    "        return m[i][j]\n",
    "\n",
    "    else:\n",
    "        for k in range(i, j):\n",
    "            q = look_up_chain(m, p, i, k) + look_up_chain(m, p, k + 1, j) + p[i] * p[k] * p[j]\n",
    "\n",
    "            if q < m[i][j]:\n",
    "                m[i][j] = q\n",
    "\n",
    "    return m[i][j]"
   ]
  },
  {
   "cell_type": "code",
   "execution_count": 45,
   "metadata": {},
   "outputs": [
    {
     "data": {
      "text/plain": [
       "22500"
      ]
     },
     "execution_count": 45,
     "metadata": {},
     "output_type": "execute_result"
    }
   ],
   "source": [
    "memoised_matrix_chain(dimensions)"
   ]
  },
  {
   "cell_type": "code",
   "execution_count": 46,
   "metadata": {},
   "outputs": [
    {
     "data": {
      "text/plain": [
       "[[0, inf, inf, inf, inf, inf, inf],\n",
       " [0, 0, inf, inf, inf, inf, inf],\n",
       " [0, 0, 0, inf, inf, inf, inf],\n",
       " [0, 0, 0, 0, inf, inf, inf],\n",
       " [0, 0, 0, 0, 0, inf, inf],\n",
       " [0, 0, 0, 0, 0, 0, inf],\n",
       " [0, 0, 0, 0, 0, 0, 0]]"
      ]
     },
     "execution_count": 46,
     "metadata": {},
     "output_type": "execute_result"
    }
   ],
   "source": [
    "m"
   ]
  },
  {
   "cell_type": "code",
   "execution_count": null,
   "metadata": {},
   "outputs": [],
   "source": []
  }
 ],
 "metadata": {
  "kernelspec": {
   "display_name": "Python 3",
   "language": "python",
   "name": "python3"
  },
  "language_info": {
   "codemirror_mode": {
    "name": "ipython",
    "version": 3
   },
   "file_extension": ".py",
   "mimetype": "text/x-python",
   "name": "python",
   "nbconvert_exporter": "python",
   "pygments_lexer": "ipython3",
   "version": "3.11.8"
  }
 },
 "nbformat": 4,
 "nbformat_minor": 2
}
