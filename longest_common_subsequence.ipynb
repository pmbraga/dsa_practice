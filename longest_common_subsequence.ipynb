{
 "cells": [
  {
   "cell_type": "markdown",
   "metadata": {},
   "source": [
    "Longest common subsequence is usually used in biology to determine the degree of similarity between the genetic material of two specimens."
   ]
  },
  {
   "cell_type": "code",
   "execution_count": 49,
   "metadata": {},
   "outputs": [],
   "source": [
    "def LCS(X, Y):\n",
    "\n",
    "    m = len(X)\n",
    "    n = len(Y)\n",
    "\n",
    "    c = [['' for _ in range(n+1)] for _ in range(m+1)]\n",
    "    b = [['' for _ in range(m+1)] for _ in range(n+1)]\n",
    "\n",
    "    for i in range(0, m):\n",
    "        c[i][0] = 0\n",
    "    for i in range(0, n):\n",
    "        c[0][i] = 0\n",
    "\n",
    "    for i in range(1, m):\n",
    "        for j in range(1, n):\n",
    "\n",
    "            if X[i] == Y[i]:\n",
    "                c[i][j] = c[i-1][j-1] + 1\n",
    "                b[i][j] = 'D'\n",
    "            elif c[i][j-1] >= c[i-1][j]:\n",
    "                c[i][j] = c[i][j-1]\n",
    "                b[i][j] = 'U'\n",
    "            else:\n",
    "                c[i][j] = c[i-1][j]\n",
    "                b[i][j] = 'L'\n",
    "\n",
    "    return c, b"
   ]
  },
  {
   "cell_type": "code",
   "execution_count": 50,
   "metadata": {},
   "outputs": [
    {
     "ename": "IndexError",
     "evalue": "string index out of range",
     "output_type": "error",
     "traceback": [
      "\u001b[0;31m---------------------------------------------------------------------------\u001b[0m",
      "\u001b[0;31mIndexError\u001b[0m                                Traceback (most recent call last)",
      "Cell \u001b[0;32mIn[50], line 1\u001b[0m\n\u001b[0;32m----> 1\u001b[0m \u001b[43mLCS\u001b[49m\u001b[43m(\u001b[49m\u001b[38;5;124;43m'\u001b[39;49m\u001b[38;5;124;43mABCBDAB\u001b[39;49m\u001b[38;5;124;43m'\u001b[39;49m\u001b[43m,\u001b[49m\u001b[43m \u001b[49m\u001b[38;5;124;43m'\u001b[39;49m\u001b[38;5;124;43mBDCABA\u001b[39;49m\u001b[38;5;124;43m'\u001b[39;49m\u001b[43m)\u001b[49m\n",
      "Cell \u001b[0;32mIn[49], line 17\u001b[0m, in \u001b[0;36mLCS\u001b[0;34m(X, Y)\u001b[0m\n\u001b[1;32m     14\u001b[0m \u001b[38;5;28;01mfor\u001b[39;00m i \u001b[38;5;129;01min\u001b[39;00m \u001b[38;5;28mrange\u001b[39m(\u001b[38;5;241m1\u001b[39m, m):\n\u001b[1;32m     15\u001b[0m     \u001b[38;5;28;01mfor\u001b[39;00m j \u001b[38;5;129;01min\u001b[39;00m \u001b[38;5;28mrange\u001b[39m(\u001b[38;5;241m1\u001b[39m, n):\n\u001b[0;32m---> 17\u001b[0m         \u001b[38;5;28;01mif\u001b[39;00m X[i] \u001b[38;5;241m==\u001b[39m \u001b[43mY\u001b[49m\u001b[43m[\u001b[49m\u001b[43mi\u001b[49m\u001b[43m]\u001b[49m:\n\u001b[1;32m     18\u001b[0m             c[i][j] \u001b[38;5;241m=\u001b[39m c[i\u001b[38;5;241m-\u001b[39m\u001b[38;5;241m1\u001b[39m][j\u001b[38;5;241m-\u001b[39m\u001b[38;5;241m1\u001b[39m] \u001b[38;5;241m+\u001b[39m \u001b[38;5;241m1\u001b[39m\n\u001b[1;32m     19\u001b[0m             b[i][j] \u001b[38;5;241m=\u001b[39m \u001b[38;5;124m'\u001b[39m\u001b[38;5;124mD\u001b[39m\u001b[38;5;124m'\u001b[39m\n",
      "\u001b[0;31mIndexError\u001b[0m: string index out of range"
     ]
    }
   ],
   "source": [
    "LCS('ABCBDAB', 'BDCABA')"
   ]
  },
  {
   "cell_type": "code",
   "execution_count": null,
   "metadata": {},
   "outputs": [],
   "source": []
  }
 ],
 "metadata": {
  "kernelspec": {
   "display_name": "personal_projects_kernel",
   "language": "python",
   "name": "personal_projects_kernel"
  },
  "language_info": {
   "codemirror_mode": {
    "name": "ipython",
    "version": 3
   },
   "file_extension": ".py",
   "mimetype": "text/x-python",
   "name": "python",
   "nbconvert_exporter": "python",
   "pygments_lexer": "ipython3",
   "version": "3.11.8"
  }
 },
 "nbformat": 4,
 "nbformat_minor": 2
}
