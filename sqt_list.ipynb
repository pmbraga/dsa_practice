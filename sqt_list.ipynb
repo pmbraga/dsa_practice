{
 "cells": [
  {
   "cell_type": "markdown",
   "metadata": {},
   "source": [
    "### 2. Fibonnaci sequence\n",
    "Recursion and dynamic programming"
   ]
  },
  {
   "cell_type": "code",
   "execution_count": 1,
   "metadata": {},
   "outputs": [],
   "source": [
    "def recursive_fibonacci(n): \n",
    "    if n == 0:\n",
    "        return 0\n",
    "    elif n == 1:\n",
    "        return 1\n",
    "    else:\n",
    "        return fibonacci(n-1) + fibonacci(n-2)"
   ]
  },
  {
   "cell_type": "code",
   "execution_count": 2,
   "metadata": {},
   "outputs": [],
   "source": [
    "def dp_fibonacci(n): # using bottom up approach since we will need every subproblem at least once\n",
    "\n",
    "    dp = [0] * (n+1) # dynamic programming table\n",
    "\n",
    "    dp[0] = 0\n",
    "    dp[1] = 1\n",
    "\n",
    "    for i in range(2, n+1):\n",
    "\n",
    "        dp[i] = dp[i-1] + dp[i-2]\n",
    "\n",
    "    return dp[i]"
   ]
  },
  {
   "cell_type": "markdown",
   "metadata": {},
   "source": [
    "### 3. Pairs sum to target\n",
    "Two pointers"
   ]
  },
  {
   "cell_type": "code",
   "execution_count": 3,
   "metadata": {},
   "outputs": [],
   "source": [
    "def findPairs(array, target):\n",
    "\n",
    "    left = 0\n",
    "    right = len(array) - 1\n",
    "\n",
    "    array = sorted(array) # TIMEX sorting\n",
    "\n",
    "    while left <= right:\n",
    "\n",
    "        s = array[left] + array[right]\n",
    "\n",
    "        if s < target:\n",
    "            left += 1\n",
    "        elif s == target:\n",
    "            return [array[left], array[right]] \n",
    "        else:\n",
    "            right -= 1\n"
   ]
  },
  {
   "cell_type": "markdown",
   "metadata": {},
   "source": [
    "### 4. Biggest subarray sum\n",
    "Sliding window and dynamic programming"
   ]
  },
  {
   "cell_type": "code",
   "execution_count": 9,
   "metadata": {},
   "outputs": [],
   "source": [
    "def subarraySum(array):\n",
    "\n",
    "    l = len(array)\n",
    "    dp = [[0 for _ in range(l+1)] for _ in range(l+1)] # row index (i) = starting index of the subarray, column index (j) = length of the subarray, dp[i][j] = length of that subarray\n",
    "    max_counter = 0\n",
    "    x = 0 \n",
    "    y = 0\n",
    "\n",
    "    for n in range(l):\n",
    "        dp[1][n] = array[n]\n",
    "\n",
    "    for i in range(2, l+1):\n",
    "        for j in range(0, l-i+1):\n",
    "\n",
    "            dp[i][j] = dp[i-1][j] + dp[1][j+i-1]\n",
    "\n",
    "            if dp[i][j] > max_counter:\n",
    "                max_counter = dp[i][j]\n",
    "                x, y = i, j\n",
    "\n",
    "    #print(dp)\n",
    "    #print([x,y])\n",
    "    #print(array[y:x+y])\n",
    "\n",
    "    return ([y,y+x-1], dp[x][y])"
   ]
  },
  {
   "cell_type": "markdown",
   "metadata": {},
   "source": [
    "### 5. Find non-repeated integer "
   ]
  },
  {
   "cell_type": "code",
   "execution_count": 5,
   "metadata": {},
   "outputs": [],
   "source": [
    "def findUnique(array):\n",
    "\n",
    "    d = {}\n",
    "    for i in array:\n",
    "        d[array.count(i)] = i\n",
    "\n",
    "    return d[1]"
   ]
  },
  {
   "cell_type": "markdown",
   "metadata": {},
   "source": [
    "### 5.1 Longest increasing sublist ** go through again **\n",
    "LCS-type problem with knapsack"
   ]
  },
  {
   "cell_type": "code",
   "execution_count": 6,
   "metadata": {},
   "outputs": [],
   "source": [
    "def increasingSublist(array):\n",
    "\n",
    "    n = len(array)\n",
    "\n",
    "    dp = [1] * n # dynamic programming table storing the lengths of the subsequences up to element k\n",
    "    seq = list(range(n)) # list that stores the indexes of the elements in the LIS\n",
    "\n",
    "    for i in range(n): # std bottom-up approach for calculating the LIS up to an element and then using it to build the LIS for the next largest element\n",
    "        for prev in range(i): #anterior elements for i\n",
    "\n",
    "            if array[prev] < array[i] and 1 + dp[prev] > dp[i]:\n",
    "                dp[i] = 1 + dp[prev]\n",
    "                seq[i] = prev\n",
    "\n",
    "    ans = -1\n",
    "    ans_ind = -1\n",
    "\n",
    "    for i in range(n):\n",
    "        if dp[i] > ans:\n",
    "            ans = dp[i]\n",
    "            ans_ind = i\n",
    "\n",
    "    res = []\n",
    "    res.append(array[ans_ind])\n",
    "    while seq[ans_ind] != ans_ind:\n",
    "        ans_ind = seq[ans_ind]\n",
    "        res.append(array[ans_ind])\n",
    "\n",
    "    res.reverse(\n",
    "    )\n",
    "\n",
    "    return res"
   ]
  },
  {
   "cell_type": "markdown",
   "metadata": {},
   "source": [
    "### 6. Watching movies\n",
    "\n",
    "We are given a list with movies durations from 1.01 to 3. How can we divide this list such that we cam watch all movies in the least amount of days without sotting in the middle of a movie"
   ]
  },
  {
   "cell_type": "code",
   "execution_count": 12,
   "metadata": {},
   "outputs": [
    {
     "ename": "SyntaxError",
     "evalue": "incomplete input (211082795.py, line 1)",
     "output_type": "error",
     "traceback": [
      "\u001b[0;36m  Cell \u001b[0;32mIn[12], line 1\u001b[0;36m\u001b[0m\n\u001b[0;31m    def minDays(movies_durations):\u001b[0m\n\u001b[0m                                  ^\u001b[0m\n\u001b[0;31mSyntaxError\u001b[0m\u001b[0;31m:\u001b[0m incomplete input\n"
     ]
    }
   ],
   "source": [
    "def minDays(movies_durations):"
   ]
  },
  {
   "cell_type": "markdown",
   "metadata": {},
   "source": [
    "### 7. Max size of subsquare on continous 1 in a binary matrix"
   ]
  },
  {
   "cell_type": "code",
   "execution_count": 34,
   "metadata": {},
   "outputs": [],
   "source": [
    "def maxSize(matrix):\n",
    "\n",
    "    rows = len(matrix)\n",
    "    cols = len(matrix[0])\n",
    "\n",
    "    dp = [[-1 for _ in range(cols)] for _ in range(rows)]\n",
    "\n",
    "    dp[0] = matrix[0]\n",
    "    for i in range(rows):\n",
    "        dp[i][0] = matrix[i][0]\n",
    "\n",
    "    for i in range(1, rows - 1):\n",
    "        for j in range(1, cols - 1):\n",
    "\n",
    "            if matrix[i][j] == 0: # no need to compute anything if the original term in the matrix was zero\n",
    "                dp[i][j] = 0 \n",
    "            else:\n",
    "                dp[i][j] = 1 + min( dp[i][j-1], dp[i-1][j], dp[i-1][j-1] ) # the rule of the subproblems; checking previous solutions, not recomputing\n",
    "\n",
    "                ''' geometrically, choosing the bottom-right edge to be analysed makes it simpler to implement the iteration because it follows the natural direction of the for loops'''\n",
    "\n",
    "    return(max(max(dp)))"
   ]
  },
  {
   "cell_type": "code",
   "execution_count": 35,
   "metadata": {},
   "outputs": [
    {
     "data": {
      "text/plain": [
       "3"
      ]
     },
     "execution_count": 35,
     "metadata": {},
     "output_type": "execute_result"
    }
   ],
   "source": [
    "maxSize([[0,1,1,0,1],[1,1,0,1,0],[0,1,1,1,0],[1,1,1,1,0], [1,1,1,1,1], [0,0,0,0,0]])"
   ]
  },
  {
   "cell_type": "markdown",
   "metadata": {},
   "source": [
    "### 8.a. Similar implementation of 4 but with target zero"
   ]
  },
  {
   "cell_type": "code",
   "execution_count": 1,
   "metadata": {},
   "outputs": [],
   "source": [
    "import math"
   ]
  },
  {
   "cell_type": "code",
   "execution_count": 10,
   "metadata": {},
   "outputs": [],
   "source": [
    "def subarrayZero(array):\n",
    "\n",
    "    l = len(array)\n",
    "    dp = [[(-math.inf) for _ in range(l+1)] for _ in range(l+1)]\n",
    "    dp[1] = array\n",
    "\n",
    "    x = 0\n",
    "    y = 0\n",
    "\n",
    "    for i in range(2, l+1):\n",
    "        for j in range(0, l - i + 1):\n",
    "\n",
    "            dp[i][j] = dp[i-1][j] + dp[1][j+i-1]\n",
    "\n",
    "            if dp[i][j] == 0:\n",
    "                x = i\n",
    "                y = j\n",
    "\n",
    "    return array[y:x+y]"
   ]
  },
  {
   "cell_type": "markdown",
   "metadata": {},
   "source": [
    "### 8.b Hypothesis of linear regression\n",
    "\n",
    "Hypothesis testing: procedure in which data is used to answer a 'yes' or 'no' question regarding the model. The usual question is if the model at hand does in fact provide a good fit for the data.\n",
    "\n",
    "Null hypothesis: the hypothesis currently under consideration.\n",
    "\n",
    "The null hypothesis is accepted or rejected based on the result of a specific *statistical test* performed with the hypothesis and the data.\n",
    "\n",
    "We can perform a number of statistical tests to determine if the null hypothesis is correct of not, they are: Neyman-Pearson test, generalised likelihood-ratio test, student t-test, and Fischet F-test (read pages 1280 to 1296 of Mathemtical Methods for Physics and Engineering)\n",
    "\n",
    "**Hypothesis testing for linear regression consists in measuring the goodness of fit in least-square problems**. It allows us to determine if the model is correct of not in representing the data at hand."
   ]
  },
  {
   "cell_type": "markdown",
   "metadata": {},
   "source": [
    "### 8.c Linear regression\n",
    "\n",
    "Linear regression is a statistical estimation technique in which we approximate the relationship between an independent variable ($x$) and its dependent function ($y$) as a linear combination of weights and biases. By tailoring the weights and biases of the model in a training set of independent variables and responses we can create an accurate interpolation algorithm that can predict responses in cases where independent variables are provided withou a respect response value."
   ]
  },
  {
   "cell_type": "markdown",
   "metadata": {},
   "source": [
    "### 8. e Complexity of accessing items in an array\n",
    "\n",
    "$\\mathcal{O}(1)$ because arrays are stored in continuous blocks of memory that are directly accessible through their indexes, without the need for transversing the array. When searching on the other hand, the complexity can grow up to $\\mathcal{O}(n)$."
   ]
  },
  {
   "cell_type": "markdown",
   "metadata": {},
   "source": [
    "### 12. Sublist partition\n",
    "\n",
    "Hashing and sorting"
   ]
  },
  {
   "cell_type": "code",
   "execution_count": 44,
   "metadata": {},
   "outputs": [],
   "source": [
    "def sublistPartition(array):\n",
    "    \n",
    "    l = len(array)\n",
    "    smallSubset = []\n",
    "    smallerSum = 0\n",
    "    totalSum = sum(array)\n",
    "    srtd = sorted(array)\n",
    "\n",
    "    print(srtd)\n",
    "\n",
    "    for i in range(l-1, -1, -1):\n",
    "\n",
    "        if len(smallSubset) > l/2:\n",
    "            return None\n",
    "        if smallerSum < totalSum:\n",
    "            smallSubset.append(srtd[i])\n",
    "            smallerSum += srtd[i]\n",
    "            totalSum -= srtd[i]\n",
    "        if smallerSum > totalSum and len(smallSubset) < l/2:\n",
    "            return smallSubset\n"
   ]
  },
  {
   "cell_type": "markdown",
   "metadata": {},
   "source": [
    "### 13. Stairs with $n$ steps. You can take either 1, 2, or 3, steps, in how many ways can we go up the stairs\n",
    "\n",
    "Basically the same as the coin change problem: we have a series of unlimited options we can choose to build up a specific target value"
   ]
  },
  {
   "cell_type": "code",
   "execution_count": 20,
   "metadata": {},
   "outputs": [],
   "source": [
    "def climbingSteps(n):\n",
    "\n",
    "    dp = [[1 for _ in range(n+2)] for _ in range(4)] #each element in dp[i][j] indicates how many ways we can climb a set of stairs with j steps taking <=i steps at once\n",
    "\n",
    "    for i in range(2, 4):\n",
    "        for j in range(0, n+2):\n",
    "\n",
    "            if j < i:\n",
    "                dp[i][j] = dp[i-1][j]\n",
    "            elif j > i:\n",
    "                dp[i][j] = dp[i][j-i] + dp[i-1][j]\n",
    "\n",
    "    return dp[3][len(dp[0])-1]"
   ]
  },
  {
   "cell_type": "markdown",
   "metadata": {},
   "source": [
    "### 15. Contiguous subarray with largest average"
   ]
  },
  {
   "cell_type": "code",
   "execution_count": 56,
   "metadata": {},
   "outputs": [],
   "source": [
    "def maxAverage(a):\n",
    "\n",
    "    l = len(a)\n",
    "    dp = [[0 for _ in range(l)] for _ in range(l+1)]\n",
    "    dp[1] = a\n",
    "\n",
    "    largestAverage = 0\n",
    "    x = 0\n",
    "    y = 0\n",
    "\n",
    "    for i in range(2, l+1):\n",
    "        for j in range(0, l - i + 1):\n",
    "\n",
    "            dp[i][j] = ((i-1)*dp[i-1][j] + dp[1][j+i-1]) / i\n",
    "\n",
    "            if dp[i][j] > largestAverage:\n",
    "                largestAverage = dp[i][j]\n",
    "                x = i\n",
    "                y = j\n",
    "\n",
    "    return a[y:y+x], largestAverage"
   ]
  },
  {
   "cell_type": "markdown",
   "metadata": {},
   "source": [
    "### 16. Minimise max using a specific operation\n",
    "\n",
    "we have an array a, we want to minimise its maximum value "
   ]
  },
  {
   "cell_type": "markdown",
   "metadata": {},
   "source": [
    "### 19. Function for moving average"
   ]
  },
  {
   "cell_type": "code",
   "execution_count": 142,
   "metadata": {},
   "outputs": [],
   "source": [
    "def movingAvg(array, ws):\n",
    "\n",
    "    l = len(array)\n",
    "    output = [0] * l \n",
    "\n",
    "    output[ws-1] = sum(array[n] for n in range(0, ws)) / ws\n",
    "\n",
    "    for i in range(ws, l):\n",
    "\n",
    "        output[i] = ((output[i-1] * ws) + array[i] - array[i-ws]) / ws\n",
    "\n",
    "    return output\n",
    "    "
   ]
  },
  {
   "cell_type": "markdown",
   "metadata": {},
   "source": [
    "### 20. Target sum\n",
    "\n",
    "Two pointers"
   ]
  },
  {
   "cell_type": "code",
   "execution_count": 144,
   "metadata": {},
   "outputs": [],
   "source": [
    "def targetSum(array, target):\n",
    "\n",
    "    l = len(array)\n",
    "\n",
    "    left = 0\n",
    "    right = l - 1\n",
    "\n",
    "    srtd = sorted(array) # TIMESTEP sorting\n",
    "\n",
    "    while left < right:\n",
    "\n",
    "        comp = array[left] + array[right]\n",
    "\n",
    "        if comp == target:\n",
    "            return [array[left], array[right]]\n",
    "        elif comp > target:\n",
    "            right -= 1\n",
    "        else:\n",
    "            left += 1\n",
    "\n",
    "    return None"
   ]
  },
  {
   "cell_type": "markdown",
   "metadata": {},
   "source": [
    "### 21. Matching arrays"
   ]
  },
  {
   "cell_type": "code",
   "execution_count": null,
   "metadata": {},
   "outputs": [],
   "source": [
    "def integerMatch(array1, array2):\n",
    "\n",
    "    "
   ]
  },
  {
   "cell_type": "markdown",
   "metadata": {},
   "source": [
    "### 22. Minimum cost"
   ]
  },
  {
   "cell_type": "markdown",
   "metadata": {},
   "source": [
    "### 23. Tuple operations\n",
    "\n",
    "binary tree question with each of the possible operations starting a subtree"
   ]
  },
  {
   "cell_type": "code",
   "execution_count": null,
   "metadata": {},
   "outputs": [],
   "source": [
    "def opOne(x, y):\n",
    "    return (x+y, y)\n",
    "\n",
    "def opTwo(x, y):\n",
    "    return (x, x+y)\n",
    "\n",
    "def isPossible(a, b, c, d):\n",
    "\n",
    "    "
   ]
  }
 ],
 "metadata": {
  "kernelspec": {
   "display_name": "Python 3",
   "language": "python",
   "name": "python3"
  },
  "language_info": {
   "codemirror_mode": {
    "name": "ipython",
    "version": 3
   },
   "file_extension": ".py",
   "mimetype": "text/x-python",
   "name": "python",
   "nbconvert_exporter": "python",
   "pygments_lexer": "ipython3",
   "version": "3.11.8"
  }
 },
 "nbformat": 4,
 "nbformat_minor": 2
}
