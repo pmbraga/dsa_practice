{
 "cells": [
  {
   "cell_type": "code",
   "execution_count": 4,
   "metadata": {},
   "outputs": [],
   "source": [
    "prices = [1,5,8,9,10,17,17,20,24,30]"
   ]
  },
  {
   "cell_type": "code",
   "execution_count": 15,
   "metadata": {},
   "outputs": [],
   "source": [
    "def auxiliary_memo_cutrod(p, n, r):\n",
    "\n",
    "    if r[n] >= 0:\n",
    "        return r[n]\n",
    "\n",
    "    if n == 0:\n",
    "        return 0\n",
    "\n",
    "    else:\n",
    "        q = -1\n",
    "        for i in range(1, n):\n",
    "            q = max(q, p[i] + auxiliary_memo_cutrod(p, n-i-1, r))\n",
    "        return q\n",
    "        \n",
    "def memoised_cutrod(p, n): \n",
    "\n",
    "    r = [- 1] * (n + 1) # dictionary of results for different subproblems, n+1 bcs we start at index 1 up to n\n",
    "\n",
    "    return auxiliary_memo_cutrod(p, n, r)"
   ]
  },
  {
   "cell_type": "code",
   "execution_count": 16,
   "metadata": {},
   "outputs": [
    {
     "data": {
      "text/plain": [
       "10"
      ]
     },
     "execution_count": 16,
     "metadata": {},
     "output_type": "execute_result"
    }
   ],
   "source": [
    "memoised_cutrod(prices, 4)"
   ]
  },
  {
   "cell_type": "code",
   "execution_count": 2,
   "metadata": {},
   "outputs": [],
   "source": [
    "def bottomup_cutrod(p, n):\n",
    "\n",
    "    r = [-1] * (n+1) # dictionary of results of subproblems\n",
    "    r[0] = 0 # initialise the result of the base case 0: a rod of length zero gives a profit of zero\n",
    "\n",
    "    for j in range(1, n+1): # up to n+1 because range method is non-inclusive of upper limit\n",
    "        q = -1\n",
    "        for i in range(1, j+1): # up to j+1 because range method is non-inclusive of upper limit\n",
    "            q = max(q, p[i-1] + r[j-i]) # we have to correct p[i] to p[i-1] so we consider the r[0] = 0 rod of length zero, since our p array is originally indexed 1\n",
    "        r[j] = q\n",
    "\n",
    "    return r[n]"
   ]
  },
  {
   "cell_type": "code",
   "execution_count": 17,
   "metadata": {},
   "outputs": [
    {
     "data": {
      "text/plain": [
       "10"
      ]
     },
     "execution_count": 17,
     "metadata": {},
     "output_type": "execute_result"
    }
   ],
   "source": [
    "bottomup_cutrod(prices, 4)"
   ]
  },
  {
   "cell_type": "code",
   "execution_count": 56,
   "metadata": {},
   "outputs": [],
   "source": [
    "def reconstructred_solution(p, n): # get back to it eventually\n",
    "\n",
    "    r = [-1] * (n+1)\n",
    "    r[0] = 0\n",
    "    s = [0] * (n)\n",
    "\n",
    "    for j in range(1, n+1):\n",
    "        q = -1\n",
    "        for i in range(1, j+1):\n",
    "            if q < p[i-1] + r[j-i]: # same condition as max(q, p[i-1]+r[j-i]) but explicit to include the s[i] = i method\n",
    "                q = p[i-1] + r[j-i]\n",
    "                s[i] = i\n",
    "        r[j] = q\n",
    "\n",
    "    series = []\n",
    "    print(s)\n",
    "\n",
    "    while n > 0:\n",
    "        series.append(s[n-1])\n",
    "        n = n - s[n-1]\n",
    "    \n",
    "    return r[n], series"
   ]
  }
 ],
 "metadata": {
  "kernelspec": {
   "display_name": "personal_projects_kernel",
   "language": "python",
   "name": "personal_projects_kernel"
  },
  "language_info": {
   "codemirror_mode": {
    "name": "ipython",
    "version": 3
   },
   "file_extension": ".py",
   "mimetype": "text/x-python",
   "name": "python",
   "nbconvert_exporter": "python",
   "pygments_lexer": "ipython3",
   "version": "3.11.8"
  }
 },
 "nbformat": 4,
 "nbformat_minor": 2
}
